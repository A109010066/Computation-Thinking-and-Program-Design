{
  "nbformat": 4,
  "nbformat_minor": 0,
  "metadata": {
    "kernelspec": {
      "display_name": "Python 3",
      "language": "python",
      "name": "python3"
    },
    "language_info": {
      "codemirror_mode": {
        "name": "ipython",
        "version": 3
      },
      "file_extension": ".py",
      "mimetype": "text/x-python",
      "name": "python",
      "nbconvert_exporter": "python",
      "pygments_lexer": "ipython3",
      "version": "3.8.5"
    },
    "colab": {
      "name": "邵卉婕-Week13-作業練習.ipynb",
      "provenance": [],
      "include_colab_link": true
    }
  },
  "cells": [
    {
      "cell_type": "markdown",
      "metadata": {
        "id": "view-in-github",
        "colab_type": "text"
      },
      "source": [
        "<a href=\"https://colab.research.google.com/github/A109010066/Computation-Thinking-and-Program-Design/blob/main/%E9%82%B5%E5%8D%89%E5%A9%95_Week13_%E4%BD%9C%E6%A5%AD%E7%B7%B4%E7%BF%92.ipynb\" target=\"_parent\"><img src=\"https://colab.research.google.com/assets/colab-badge.svg\" alt=\"Open In Colab\"/></a>"
      ]
    },
    {
      "cell_type": "markdown",
      "metadata": {
        "id": "jFCGHZR_ptJo"
      },
      "source": [
        "**隨堂練習1： BMI 計算**\n",
        "\n",
        "請寫一個程式讓使用者輸入身高與體重，顯示BMI 值與肥胖程度。 BMI 等於體重（KG）除以身高（M）的平方，而BMI 與肥胖分類標準如下：\n",
        "\n",
        "若BMI 值小於18，則顯示「體重過輕」，否則若BMI 值小於24，則顯示「體重正常」，若BMI 值小於27，則顯示「體重過重」，否則顯示「體重肥胖」。"
      ]
    },
    {
      "cell_type": "code",
      "metadata": {
        "id": "PqZ7mQyRptJq"
      },
      "source": [
        ""
      ],
      "execution_count": null,
      "outputs": []
    },
    {
      "cell_type": "markdown",
      "metadata": {
        "id": "Z4B9QpmlptJq"
      },
      "source": [
        "**隨堂練習2： 三一律(單向選擇、雙向與巢狀選擇、多向選擇)**\n",
        "\n",
        "請輸入一個數，然後判斷這個數是正數、是負數或者是零。"
      ]
    },
    {
      "cell_type": "code",
      "metadata": {
        "id": "0bu8XrhSptJq"
      },
      "source": [
        ""
      ],
      "execution_count": null,
      "outputs": []
    },
    {
      "cell_type": "markdown",
      "metadata": {
        "id": "LnIkjGBiptJr"
      },
      "source": [
        "**練習5   體溫與發燒**\n",
        "\n",
        "設計程式根據體溫判斷是否發燒，由使用者輸入體溫，程式判斷是否發燒，假設體溫小於36度，顯示「體溫過低」，體溫大於等於36度小於38度，顯示「體溫正常」，否則若體溫大於等於38度小於39度，顯示「體溫有點燒」，否則體溫大於等於39度，顯示「體溫很燒」。\n",
        "\n",
        "輸入體溫「36.5」，輸出為「體溫正常」。\n",
        "\n",
        "～程式執行結果如下。\n",
        "\n",
        "請輸入體溫？36.5\n",
        "\n",
        "體溫正常"
      ]
    },
    {
      "cell_type": "code",
      "metadata": {
        "id": "m0JoYDhXptJr",
        "colab": {
          "base_uri": "https://localhost:8080/"
        },
        "outputId": "4be1d2ef-45cb-4a48-eca1-b7f798f47ba6"
      },
      "source": [
        "temp=float(input('請輸入體溫?'))\n",
        "\n",
        "if temp<36:\n",
        "  print('體溫過低')\n",
        "elif temp<38:\n",
        "  print('體溫正常')\n",
        "elif temp<39:\n",
        "  print('體溫偏高')\n",
        "else:\n",
        "  print('體溫過高')"
      ],
      "execution_count": 5,
      "outputs": [
        {
          "output_type": "stream",
          "text": [
            "請輸入體溫?37\n",
            "體溫正常\n"
          ],
          "name": "stdout"
        }
      ]
    },
    {
      "cell_type": "markdown",
      "metadata": {
        "id": "LqXfR4cGptJr"
      },
      "source": [
        "**練習6  閏年判斷**\n",
        "\n",
        "設計程式允許輸入西元幾年，請求出該年是否是閏年，閏年表示該年多一天，若為4的倍數稱做閏年，但若為100的倍數就不為閏年，且若為400倍數又是閏年。(四年一潤、百年不潤、四百年再潤)\n",
        "\n",
        "輸入年份「2012」，輸出為「2012是閏年」。\n",
        "\n",
        "～程式執行結果如下。\n",
        "\n",
        "請輸入年份？2012\n",
        "\n",
        "2012 是閏年"
      ]
    },
    {
      "cell_type": "code",
      "metadata": {
        "id": "Zr3UCOwbptJr",
        "colab": {
          "base_uri": "https://localhost:8080/"
        },
        "outputId": "2d09ff96-0348-465e-dfeb-a1a1ec0770f7"
      },
      "source": [
        "year=int(input('請輸入年份'))\n",
        "\n",
        "if year%400==0:\n",
        "  print(year,\"是閏年\")\n",
        "elif year%100==0:\n",
        "  print(year,\"不是閏年\")\n",
        "elif year%4==0:\n",
        "  print(year,\"是閏年\")\n",
        "else:\n",
        "  print(year,\"不是閏年\")"
      ],
      "execution_count": 7,
      "outputs": [
        {
          "output_type": "stream",
          "text": [
            "請輸入年份2002\n",
            "2002 不是閏年\n"
          ],
          "name": "stdout"
        }
      ]
    },
    {
      "cell_type": "markdown",
      "metadata": {
        "id": "MnXq3TZsptJr"
      },
      "source": [
        "**練習12：計程車計費**\n",
        "\n",
        "某城市計程車計費3公里以內6元，超過3公里不足10公里、每公里1.8元，超過10公里則超過部分加收50%。此外停車等候每3分鐘收1元，請用Python寫出車費是多少。"
      ]
    },
    {
      "cell_type": "code",
      "metadata": {
        "id": "LZaldEPYptJs",
        "colab": {
          "base_uri": "https://localhost:8080/"
        },
        "outputId": "1a18a21d-bbf2-464d-e319-b72d832a7e41"
      },
      "source": [
        "length=int(input(\"請輸入距離:\"))\n",
        "time=int(input(\"請輸入時間:\"))\n",
        "if length>=10:\n",
        "  feight=6+(10-3)*1.8+(length-10)*1.8*1.5\n",
        "else:\n",
        "  if length>=3:\n",
        "    feight=6+(length-3)*1.8\n",
        "  else:\n",
        "    feight=6\n",
        "feight=feight+(time/3)*1\n",
        "print(\"計程車費是\",feight)"
      ],
      "execution_count": 11,
      "outputs": [
        {
          "output_type": "stream",
          "text": [
            "請輸入距離:50\n",
            "請輸入時間:46\n",
            "計程車費是 141.93333333333334\n"
          ],
          "name": "stdout"
        }
      ]
    },
    {
      "cell_type": "code",
      "metadata": {
        "id": "vkD82PVkptJs"
      },
      "source": [
        ""
      ],
      "execution_count": null,
      "outputs": []
    }
  ]
}