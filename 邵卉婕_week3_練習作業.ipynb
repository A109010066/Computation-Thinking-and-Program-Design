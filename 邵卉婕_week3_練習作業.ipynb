{
  "nbformat": 4,
  "nbformat_minor": 0,
  "metadata": {
    "colab": {
      "name": "邵卉婕-week3-練習作業.ipynb",
      "provenance": [],
      "collapsed_sections": [],
      "authorship_tag": "ABX9TyMfVf2OK9KQcyYGF80MN3mJ",
      "include_colab_link": true
    },
    "kernelspec": {
      "name": "python3",
      "display_name": "Python 3"
    }
  },
  "cells": [
    {
      "cell_type": "markdown",
      "metadata": {
        "id": "view-in-github",
        "colab_type": "text"
      },
      "source": [
        "<a href=\"https://colab.research.google.com/github/A109010066/Computation-Thinking-and-Program-Design/blob/main/%E9%82%B5%E5%8D%89%E5%A9%95_week3_%E7%B7%B4%E7%BF%92%E4%BD%9C%E6%A5%AD.ipynb\" target=\"_parent\"><img src=\"https://colab.research.google.com/assets/colab-badge.svg\" alt=\"Open In Colab\"/></a>"
      ]
    },
    {
      "cell_type": "code",
      "metadata": {
        "id": "gyDDRulYMqiW"
      },
      "source": [
        ""
      ],
      "execution_count": null,
      "outputs": []
    },
    {
      "cell_type": "markdown",
      "metadata": {
        "id": "wH8gBM-oNVbB"
      },
      "source": [
        "#隨堂練習"
      ]
    },
    {
      "cell_type": "markdown",
      "metadata": {
        "id": "tyE6-DhVeeir"
      },
      "source": [
        "1.認識電腦\r\n",
        "2.程式設計 與電腦溝通的語言\r\n",
        "3.運算思維是一種解決問題的方式，學習寫程式前，必須先了解背後的邏輯思維\r\n",
        "4.用電腦解決問題"
      ]
    },
    {
      "cell_type": "markdown",
      "metadata": {
        "id": "aZhELlAQNjkA"
      },
      "source": [
        "#課堂練習"
      ]
    },
    {
      "cell_type": "markdown",
      "metadata": {
        "id": "ya4nhx2FehlR"
      },
      "source": [
        ""
      ]
    },
    {
      "cell_type": "code",
      "metadata": {
        "id": "bFCTAWSBNqJi"
      },
      "source": [
        ""
      ],
      "execution_count": null,
      "outputs": []
    },
    {
      "cell_type": "markdown",
      "metadata": {
        "id": "SiOCk6tDZrvl"
      },
      "source": [
        "從一則新聞報導，提出你對新聞系（OO系）學生為什麼要學「運算思維與程式設計」的見解。（告訴我新聞連結，以及你的觀點即可。）\r\n",
        "https://www.cw.com.tw/article/5098866\r\n",
        "\r\n",
        "我的觀點：在現代科技化的社會中，我覺得不僅僅是新聞系，所有無論文理組的學生都應該要備有這樣的技能，除了未來可能在工作場合有所應用外，也可以提升自己的競爭力。\r\n"
      ]
    }
  ]
}