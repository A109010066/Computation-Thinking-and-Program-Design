{
  "nbformat": 4,
  "nbformat_minor": 0,
  "metadata": {
    "kernelspec": {
      "display_name": "Python 3",
      "language": "python",
      "name": "python3"
    },
    "language_info": {
      "codemirror_mode": {
        "name": "ipython",
        "version": 3
      },
      "file_extension": ".py",
      "mimetype": "text/x-python",
      "name": "python",
      "nbconvert_exporter": "python",
      "pygments_lexer": "ipython3",
      "version": "3.8.5"
    },
    "colab": {
      "name": "邵卉婕-Week10-作業.ipynb」",
      "provenance": [],
      "collapsed_sections": [],
      "include_colab_link": true
    }
  },
  "cells": [
    {
      "cell_type": "markdown",
      "metadata": {
        "id": "view-in-github",
        "colab_type": "text"
      },
      "source": [
        "<a href=\"https://colab.research.google.com/github/A109010066/Computation-Thinking-and-Program-Design/blob/main/%E9%82%B5%E5%8D%89%E5%A9%95_Week10_%E4%BD%9C%E6%A5%AD_ipynb%E3%80%8D.ipynb\" target=\"_parent\"><img src=\"https://colab.research.google.com/assets/colab-badge.svg\" alt=\"Open In Colab\"/></a>"
      ]
    },
    {
      "cell_type": "markdown",
      "metadata": {
        "id": "U8hdAxlKpBhW"
      },
      "source": [
        "# 基本程式設計(應用篇)"
      ]
    },
    {
      "cell_type": "markdown",
      "metadata": {
        "id": "gdvX8FTepBhb"
      },
      "source": [
        "### 4-2 運算思維四個基石"
      ]
    },
    {
      "cell_type": "markdown",
      "metadata": {
        "id": "Y6yXNB1UpBhc"
      },
      "source": [
        "#### 4-2-4  問題拆解 - 打造你的聊天機器人"
      ]
    },
    {
      "cell_type": "markdown",
      "metadata": {
        "id": "1i9d4AqNpBhc"
      },
      "source": [
        "「哈囉，大家好。我叫Zyxo64，是一個聊天機器人。\n",
        "\n",
        "在嗜好與興趣方面，我很喜歡美食，也喜歡養動物。\n",
        "\n",
        "很高興有機會來到世新大學，請大家多多指教。\n",
        "\n",
        "嗨！妳好，請問大名？：Francis。\n",
        "\n",
        "Francis，很高興認識你。"
      ]
    },
    {
      "cell_type": "code",
      "metadata": {
        "id": "5Wxr1YsUpBhd",
        "colab": {
          "base_uri": "https://localhost:8080/"
        },
        "outputId": "349ec496-aa2f-4c23-b1d3-4f7bc35a1cf3"
      },
      "source": [
        "# 1.聊天機器人自我介紹\n",
        "print(\"哈囉，大家好。我叫Zyxo64，是一個聊天機器人。\")\n",
        "print(f\"在嗜好與興趣方面，我很喜歡美食，也喜歡養動物。\")\n",
        "hello=\"很高興有機會來到世新大學，請大家多多指教。\"\n",
        "print(hello)\n",
        "\n",
        "# 2. 打招呼，取得對方名字\n",
        "name=input(\"嗨！妳好，請問大名？\")\n",
        "print(f\"{name}, 很高興認識你。\")\n"
      ],
      "execution_count": null,
      "outputs": [
        {
          "output_type": "stream",
          "text": [
            "哈囉，大家好。我叫Zyxo64，是一個聊天機器人。\n",
            "在嗜好與興趣方面，我很喜歡美食，也喜歡養動物。\n",
            "很高興有機會來到世新大學，請大家多多指教。\n",
            "嗨！妳好，請問大名？Jessica\n",
            "Jessica, 很高興認識你。\n"
          ],
          "name": "stdout"
        }
      ]
    },
    {
      "cell_type": "markdown",
      "metadata": {
        "id": "5HeSjspOpBhd"
      },
      "source": [
        "抱歉，請問一下今年是西元2021年，那是民國幾年呢？：*110*。\n",
        "\n",
        "對！沒錯，謝謝妳！\n",
        "\n",
        "**Francis**，猜猜看我今年幾歲？ ：**18**。\n",
        "\n",
        "哇！你好聰明，我今年的確*18*。\n",
        "\n",
        "再82年我就100歲了。\n",
        "\n",
        "那時候是西元 2103年，也就是民國192年囉！"
      ]
    },
    {
      "cell_type": "code",
      "metadata": {
        "id": "Nlo-Q9ESpBhe",
        "colab": {
          "base_uri": "https://localhost:8080/"
        },
        "outputId": "2af5adfa-3b75-4c61-d6d7-c20b4adadda6"
      },
      "source": [
        "# 3. 數學運算\n",
        "## 3-1 從使用者取得今年年份\n",
        "year=input(\"請問一下今年是西元2021年，那是民國幾年呢？\")\n",
        "print(\"對！沒錯，謝謝妳！\")\n",
        "\n",
        "## 3-2 請使用者猜年齡\n",
        "age=input(\"Jessica，猜猜看我今年幾歲？\")\n",
        "print(\"哇！你好聰明，我今年的確18\")\n",
        "\n",
        "## 3-3 計算聊天機器人滿100歲的年份\n",
        "nyears=100-int(age)\n",
        "print(f\"再{nyear}年我就100歲了。\")\n",
        "total=1911+int(year)+nyears\n",
        "print(f\"到時候是西元{int(year)+nyears+1911}年\")"
      ],
      "execution_count": null,
      "outputs": [
        {
          "output_type": "stream",
          "text": [
            "請問一下今年是西元2021年，那是民國幾年呢？110\n",
            "對！沒錯，謝謝妳！\n",
            "Jessica，猜猜看我今年幾歲？18\n",
            "哇！你好聰明，我今年的確18\n",
            "再82年我就100歲了。\n",
            "到時候是西元2103年\n"
          ],
          "name": "stdout"
        }
      ]
    },
    {
      "cell_type": "markdown",
      "metadata": {
        "id": "MSckahNapBhe"
      },
      "source": [
        "我喜歡吃巧克力，也喜歡嘗試各種新食物。\n",
        "\n",
        "你呢？你最喜歡的食物是什麼？**:披薩**。\n",
        "\n",
        "我也喜歡 *披薩*。\n",
        "\n",
        "你多久吃一次 *披薩*？**：每天**。\n",
        "\n",
        "真有趣。不知道這樣對健康好不好。"
      ]
    },
    {
      "cell_type": "code",
      "metadata": {
        "id": "kO9ZwPXSpBhe",
        "colab": {
          "base_uri": "https://localhost:8080/"
        },
        "outputId": "221efaf8-fdfc-4853-e384-24b0c482a59d"
      },
      "source": [
        "# 4 興趣\n",
        "## 4-1 食物話題\n",
        "print(\"我喜歡吃巧克力，也喜歡嘗試各種新食物\")\n",
        "food=input(\"你呢？你最喜歡的食物是什麼？\")\n",
        "print(\"我也喜歡\", food)\n",
        "question=\"你多久吃一次\"+food+\"?:\"\n",
        "howoften=input(question)\n",
        "print(\"真有趣。不知道這樣對健康好不好。\")"
      ],
      "execution_count": null,
      "outputs": [
        {
          "output_type": "stream",
          "text": [
            "我喜歡吃巧克力，也喜歡嘗試各種新食物\n",
            "你呢？你最喜歡的食物是什麼？chocolate\n",
            "我也喜歡 chocolate\n",
            "你多久吃一次chocolate?:每天\n",
            "真有趣。不知道這樣對健康好不好。\n"
          ],
          "name": "stdout"
        }
      ]
    },
    {
      "cell_type": "markdown",
      "metadata": {
        "id": "DKbvkwSSpBhf"
      },
      "source": [
        "我最喜歡的動物是長頸鹿。你呢？ **：烏龜**。\n",
        "\n",
        "我不喜歡*烏龜*！\n",
        "\n",
        "不知道 *烏龜* 喜不喜歡吃 *披薩*？"
      ]
    },
    {
      "cell_type": "code",
      "metadata": {
        "id": "8CCHFEbnpBhf",
        "colab": {
          "base_uri": "https://localhost:8080/"
        },
        "outputId": "72a0034f-593f-4170-9f99-b94b4636ed7a"
      },
      "source": [
        "# 4 興趣\n",
        "## 4-2 動物話題\n",
        "animal=input(\"我最喜歡的動物是長頸鹿。你呢？\")\n",
        "print(f\"我不喜歡{animal}\")\n",
        "print(f\"不知道{animal}喜不喜歡吃{food}\")"
      ],
      "execution_count": null,
      "outputs": [
        {
          "output_type": "stream",
          "text": [
            "我最喜歡的動物是長頸鹿。你呢？pig\n",
            "我不喜歡pig\n",
            "不知道pig喜不喜歡吃chocolate\n"
          ],
          "name": "stdout"
        }
      ]
    },
    {
      "cell_type": "markdown",
      "metadata": {
        "id": "TfiOF0yapBhf"
      },
      "source": [
        "你今天的心情如何？ **：很開心**。\n",
        "\n",
        "可以告訴我你 *開心* 的原因嗎？**因為週末了！** \n",
        "\n",
        "祝你週末愉快！\n",
        "\n",
        "我喜歡跟你聊天，現在有點累了，改天再聊吧！！\n",
        "\n",
        "再見 *Francis*！"
      ]
    },
    {
      "cell_type": "code",
      "metadata": {
        "id": "5yvVFEJVpBhf"
      },
      "source": [
        "# 5. 關於心情的對話\n",
        "feeling=input(\"你今天的心情如何？\")\n",
        "print()"
      ],
      "execution_count": null,
      "outputs": []
    },
    {
      "cell_type": "markdown",
      "metadata": {
        "id": "vGXDlewSpBhf"
      },
      "source": [
        "我喜歡跟你聊天，現在有點累了，改天再聊吧！！\n",
        "\n",
        "再見 *Francis*！"
      ]
    },
    {
      "cell_type": "code",
      "metadata": {
        "id": "xpK70mtZpBhg"
      },
      "source": [
        "# 6. 道別\n"
      ],
      "execution_count": null,
      "outputs": []
    },
    {
      "cell_type": "markdown",
      "metadata": {
        "id": "wMUrpZNvpBhg"
      },
      "source": [
        "## 期末報告"
      ]
    },
    {
      "cell_type": "markdown",
      "metadata": {
        "id": "B8oQxzTJpBhg"
      },
      "source": [
        "###組長(學號姓名):A109010048 班詠絜\n",
        "\n"
      ]
    },
    {
      "cell_type": "markdown",
      "metadata": {
        "id": "ip2azVOGpBhg"
      },
      "source": [
        "### 組員(學號姓名):A109010018 林佳穎、A109010066 邵卉婕、A109010099 林芝彣\n",
        "\n"
      ]
    },
    {
      "cell_type": "markdown",
      "metadata": {
        "id": "Ic_pxLQZpBhg"
      },
      "source": [
        "### 題目:學生證不見怎麼辦\n"
      ]
    },
    {
      "cell_type": "markdown",
      "metadata": {
        "id": "Z406428IpBhh"
      },
      "source": [
        "### 百字腳本\n",
        "\n",
        "嗨你好，我是「小美女」！\n",
        "\n",
        "哈囉「小美女」，我叫「大可愛」\n",
        "\n",
        "你今年幾歲了？\n",
        "\n",
        "我今年「19歲」\n",
        "\n",
        "這麼巧，我今年也「19歲」\n",
        "\n",
        "你家住在哪裏呢？\n",
        "\n",
        "我住在「景美」\n",
        "\n",
        "原來妳住在「景美」，我住在「淡水」，離我家好遠啊\n",
        "\n",
        "「淡水」有什麼好吃的啊，我覺得「景美」的「糖葫蘆」很棒\n",
        "\n",
        "我推薦「淡水」的「阿給」，下次要一起去嗎？\n",
        "\n",
        "那約好了哦，我可以帶「男朋友」一起去嗎？\n",
        "\n",
        "太難過了，我沒有「男朋友」可以帶\n",
        "\n",
        "沒關係，下次介紹給你認識！\n",
        "\n",
        "好啊！你平常的休閒娛樂是什麼？\n",
        "\n",
        "我平常喜歡「打籃球」，你呢？\n",
        "\n",
        "好可惜，我不喜歡「打籃球」，但是我好奇「打籃球」的時候吃「糖葫蘆」是不是很棒！\n",
        "\n",
        "不好吧！這樣會噎到耶～\n",
        "\n",
        "有道理，「打籃球」的時候還是不要吃東西比較好\n",
        "\n",
        "哈哈好，很高興認識你，我要回家了，我們下次再見"
      ]
    }
  ]
}