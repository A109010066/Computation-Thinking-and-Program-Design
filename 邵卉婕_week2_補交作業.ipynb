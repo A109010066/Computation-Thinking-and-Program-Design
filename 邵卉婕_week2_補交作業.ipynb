{
  "nbformat": 4,
  "nbformat_minor": 0,
  "metadata": {
    "colab": {
      "name": "邵卉婕-week2-補交作業.ipynb",
      "provenance": [],
      "authorship_tag": "ABX9TyO3Uh1C4vb2mqvQ6Zi6np1C",
      "include_colab_link": true
    },
    "kernelspec": {
      "name": "python3",
      "display_name": "Python 3"
    }
  },
  "cells": [
    {
      "cell_type": "markdown",
      "metadata": {
        "id": "view-in-github",
        "colab_type": "text"
      },
      "source": [
        "<a href=\"https://colab.research.google.com/github/A109010066/Computation-Thinking-and-Program-Design/blob/main/%E9%82%B5%E5%8D%89%E5%A9%95_week2_%E8%A3%9C%E4%BA%A4%E4%BD%9C%E6%A5%AD.ipynb\" target=\"_parent\"><img src=\"https://colab.research.google.com/assets/colab-badge.svg\" alt=\"Open In Colab\"/></a>"
      ]
    },
    {
      "cell_type": "code",
      "metadata": {
        "colab": {
          "base_uri": "https://localhost:8080/"
        },
        "id": "ZW65j884KNxO",
        "outputId": "e50a3901-1264-4c80-a877-24eb20b1f38d"
      },
      "source": [
        "print(1+1)"
      ],
      "execution_count": 1,
      "outputs": [
        {
          "output_type": "stream",
          "text": [
            "2\n"
          ],
          "name": "stdout"
        }
      ]
    },
    {
      "cell_type": "code",
      "metadata": {
        "colab": {
          "base_uri": "https://localhost:8080/"
        },
        "id": "3_bDUIetKgL3",
        "outputId": "d92be6c9-4229-46b8-cf5d-bb4aac003917"
      },
      "source": [
        "print('Hello World')"
      ],
      "execution_count": 2,
      "outputs": [
        {
          "output_type": "stream",
          "text": [
            "Hello World\n"
          ],
          "name": "stdout"
        }
      ]
    },
    {
      "cell_type": "markdown",
      "metadata": {
        "id": "0cr8yz21NKqb"
      },
      "source": [
        "google colab 操作步驟\r\n",
        "\r\n",
        "step1:\r\n",
        "\r\n",
        "step2:\r\n",
        "\r\n",
        "step3:"
      ]
    }
  ]
}